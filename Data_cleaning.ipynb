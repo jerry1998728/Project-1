{
 "cells": [
  {
   "cell_type": "code",
   "execution_count": 3,
   "metadata": {},
   "outputs": [],
   "source": [
    "\n",
    "from pathlib import Path\n",
    "import pandas as pd\n",
    "\n",
    "import os\n",
    "\n",
    "from dotenv import load_dotenv"
   ]
  },
  {
   "cell_type": "code",
   "execution_count": null,
   "metadata": {},
   "outputs": [],
   "source": [
    "### create path to csv's and read csvs.\n",
    "###path_name= ('../Resources/name.csv') ###"
   ]
  },
  {
   "cell_type": "code",
   "execution_count": null,
   "metadata": {},
   "outputs": [],
   "source": [
    "### read in the data and set index to date time and create df. ###\n",
    "### variable = pd.read_csv(path, index_col = \"column name\")"
   ]
  },
  {
   "cell_type": "code",
   "execution_count": null,
   "metadata": {},
   "outputs": [],
   "source": []
  },
  {
   "cell_type": "code",
   "execution_count": null,
   "metadata": {},
   "outputs": [],
   "source": [
    "###calculate daily percent change for each culumn from all data sources ###\n",
    "##remove all null values#"
   ]
  },
  {
   "cell_type": "code",
   "execution_count": null,
   "metadata": {},
   "outputs": [],
   "source": [
    "###Join and merge all data sources into new dataframe. ###\n",
    "### new_dataframe_name = pd.concat([df1, df2], axis= \"rows, columns\", join = \"inner\")"
   ]
  },
  {
   "cell_type": "code",
   "execution_count": null,
   "metadata": {},
   "outputs": [],
   "source": [
    "###for risk analysis  calculate the following ratios###\n",
    "### calculate standard deviation for combined dataframe###\n",
    "      ### dataframe.rolling(window = 7, 30, 90, 180 etc..).mean().plot()"
   ]
  },
  {
   "cell_type": "code",
   "execution_count": null,
   "metadata": {},
   "outputs": [],
   "source": [
    "### calculate beta ###\n",
    "### # Create a new pivot table where the columns are the closing prices for each ticker\n",
    "###combined_df = pd.concat([amzn_df, sp500_df], axis=\"columns\", join=\"inner\")\n",
    "\n",
    "# Sort datetime index in ascending order (past to present)\n",
    "###combined_df.sort_index(inplace=True)\n",
    "\n",
    "# Set column names to 'AMZN' and 'S&P 500'\n",
    "###combined_df.columns = [\"AMZN\", \"S&P 500\"]\n",
    "\n",
    "###Calculate Daily returns ###\n",
    "###daily_returns = combined_df.pct_change()\n",
    "\n",
    "# Calculate covariance of all daily returns of AMZN vs. S&P 500\n",
    "###covariance = daily_returns['AMZN'].cov(daily_returns['S&P 500'])\n",
    "###covariance\n",
    "\n",
    "# Calculate variance of all daily returns of AMZN vs. S&P 500\n",
    "###variance = daily_returns['S&P 500'].var()\n",
    "###variance\n",
    "\n",
    "# Calculate beta of all daily returns of AMZN\n",
    "###amzn_beta = covariance / variance\n",
    "###amzn_beta\n",
    "\n",
    "# Calculate 30-day rolling covariance of AMZN vs. S&P 500 and plot the data\n",
    "###rolling_covariance = daily_returns['AMZN'].rolling(window=30).cov(daily_returns['S&P 500'])\n",
    "###rolling_covariance.plot(figsize=(20, 10), title='Rolling 30-Day Covariance of AMZN Returns vs. S&P 500 Returns')\n",
    "\n",
    "# Calculate 30-day rolling variance of AMZN vs. S&P 500 and plot the data\n",
    "###rolling_variance = daily_returns['S&P 500'].rolling(window=30).var()\n",
    "###rolling_variance.plot(figsize=(20, 10), title='Rolling 30-Day Variance of S&P 500 Returns')\n",
    "\n",
    "# Calculate 30-day rolling beta of AMZN and plot the data\n",
    "###rolling_beta = rolling_covariance / rolling_variance\n",
    "###rolling_beta.plot(figsize=(20, 10), title='Rolling 30-Day Beta of AMZN')\n",
    "\n",
    "# Showcase beta vs. correlation by plotting a scatterplot using the Seaborn library and fitting a regression line\n",
    "###import seaborn as sns\n",
    "###sns.lmplot(x='S&P 500', y='AMZN', data=daily_returns, aspect=1.5, fit_reg=True)"
   ]
  },
  {
   "cell_type": "code",
   "execution_count": null,
   "metadata": {},
   "outputs": [],
   "source": [
    "### calculate the sharpe ratios by computing the quotient of annualized average return and annualized statard deviaiton#\n",
    "\n"
   ]
  }
 ],
 "metadata": {
  "kernelspec": {
   "display_name": "Python 3",
   "language": "python",
   "name": "python3"
  },
  "language_info": {
   "codemirror_mode": {
    "name": "ipython",
    "version": 3
   },
   "file_extension": ".py",
   "mimetype": "text/x-python",
   "name": "python",
   "nbconvert_exporter": "python",
   "pygments_lexer": "ipython3",
   "version": "3.8.3"
  }
 },
 "nbformat": 4,
 "nbformat_minor": 4
}
